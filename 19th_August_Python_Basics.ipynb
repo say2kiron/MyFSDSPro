{
 "cells": [
  {
   "cell_type": "code",
   "execution_count": 1,
   "id": "5c398b24-6faf-4d5d-9aca-2fa27cc47955",
   "metadata": {},
   "outputs": [],
   "source": [
    "#TOPIC: Python Basics Variable"
   ]
  },
  {
   "cell_type": "code",
   "execution_count": 6,
   "id": "cee9f768-eeb4-49e0-951b-12c69a14454f",
   "metadata": {},
   "outputs": [],
   "source": [
    "#1) Declare two variables, `x` and `y`, and assign them integer values. Swap the values of these variables without using any temporary variable."
   ]
  },
  {
   "cell_type": "code",
   "execution_count": 3,
   "id": "41d5a485-3a06-42e2-b18b-def019c7a0c0",
   "metadata": {},
   "outputs": [
    {
     "name": "stdout",
     "output_type": "stream",
     "text": [
      "x = 20\n",
      "y = 20\n"
     ]
    }
   ],
   "source": [
    "x = 10\n",
    "y = 20\n",
    "x = y\n",
    "y = x\n",
    "print(\"x =\",x)\n",
    "print(\"y =\",y)"
   ]
  },
  {
   "cell_type": "code",
   "execution_count": 12,
   "id": "b297b6b5-0202-4609-842e-53e12558f4e4",
   "metadata": {},
   "outputs": [
    {
     "name": "stdout",
     "output_type": "stream",
     "text": [
      "x = 20\n",
      "y = 10\n"
     ]
    }
   ],
   "source": [
    "x = 10\n",
    "y = 20\n",
    "x, y = y, x    #Assign multiple variables in single statement, otherwise I am getting the above answer, which is wrong.\n",
    "print(\"x =\",x)\n",
    "print(\"y =\",y)"
   ]
  },
  {
   "cell_type": "code",
   "execution_count": 11,
   "id": "d4ee6256-ca5b-48d0-a110-9b59b6704b2d",
   "metadata": {},
   "outputs": [],
   "source": [
    "#2) Create a program that calculates the area of a rectangle. Take the length and width as inputs from the user and store them in variables. Calculate and display the area."
   ]
  },
  {
   "cell_type": "code",
   "execution_count": 13,
   "id": "faaa173e-7eeb-45c0-a6bf-c5296aaf5432",
   "metadata": {},
   "outputs": [
    {
     "name": "stdin",
     "output_type": "stream",
     "text": [
      " 4\n",
      " 3\n"
     ]
    },
    {
     "name": "stdout",
     "output_type": "stream",
     "text": [
      "Area of a Rectangle = 12\n"
     ]
    }
   ],
   "source": [
    "#Declaring variables length and width, which takes the input from user in runtime\n",
    "\n",
    "length = int(input())\n",
    "width = int(input())\n",
    "Area = length * width     #Rectangle Area Formula = Length * Width\n",
    "print(\"Area of a Rectangle =\",Area)"
   ]
  },
  {
   "cell_type": "code",
   "execution_count": 14,
   "id": "8a291964-8b6a-4672-a4b7-bc0ea8f33f1d",
   "metadata": {},
   "outputs": [],
   "source": [
    "#3) Write a Python program that converts temperature from Celsius to Fahrenheit. Take the temperature in Celsius as input, store it in a variable, convert it to Fahrenheit, and display the result."
   ]
  },
  {
   "cell_type": "code",
   "execution_count": 15,
   "id": "7095bb67-3584-44cd-9713-77cd4f7ead08",
   "metadata": {},
   "outputs": [
    {
     "name": "stdin",
     "output_type": "stream",
     "text": [
      " 30\n"
     ]
    },
    {
     "name": "stdout",
     "output_type": "stream",
     "text": [
      "Fahrenheit Temperature = 86.0\n"
     ]
    }
   ],
   "source": [
    "celsius = int(input()) #Declaring variable for celsius value\n",
    "\n",
    "Fahrenheit = celsius * 1.8 + 32\n",
    "\n",
    "print(\"Fahrenheit Temperature =\",Fahrenheit)"
   ]
  },
  {
   "cell_type": "code",
   "execution_count": 16,
   "id": "fa7c3b5d-9514-490c-ac6f-d70b71df10dd",
   "metadata": {},
   "outputs": [],
   "source": [
    "#TOPIC: String Based Questions"
   ]
  },
  {
   "cell_type": "code",
   "execution_count": 17,
   "id": "b2ade3ee-66da-4094-a4cc-0a66ec36c8e3",
   "metadata": {},
   "outputs": [],
   "source": [
    "#1) Write a Python program that takes a string as input and prints the length of the string."
   ]
  },
  {
   "cell_type": "code",
   "execution_count": 19,
   "id": "fb750a1a-2a4d-4ab7-a08b-521902eaefae",
   "metadata": {},
   "outputs": [
    {
     "name": "stdin",
     "output_type": "stream",
     "text": [
      " Viviktha Kiran\n"
     ]
    },
    {
     "name": "stdout",
     "output_type": "stream",
     "text": [
      "Length of the string = 14\n"
     ]
    }
   ],
   "source": [
    "string_input1 = input()\n",
    "\n",
    "output_variable = len(string_input1)\n",
    "\n",
    "print(\"Length of the string =\",output_variable)"
   ]
  },
  {
   "cell_type": "code",
   "execution_count": 20,
   "id": "ae4c0967-a525-438a-b43a-eeb35e6c13a2",
   "metadata": {},
   "outputs": [],
   "source": [
    "#2) Create a program that takes a sentence from the user and counts the number of vowels (a, e, i, o, u) in the string."
   ]
  },
  {
   "cell_type": "code",
   "execution_count": 25,
   "id": "074ed61d-a484-4873-81fc-638794279a9b",
   "metadata": {},
   "outputs": [
    {
     "name": "stdin",
     "output_type": "stream",
     "text": [
      " my name is kiran kumar mutte\n"
     ]
    },
    {
     "name": "stdout",
     "output_type": "stream",
     "text": [
      "a = 3\n"
     ]
    }
   ],
   "source": [
    "sentence = input()\n",
    "\n",
    "a = sentence.count('a')\n",
    "\n",
    "print(\"a =\",a)"
   ]
  },
  {
   "cell_type": "code",
   "execution_count": 26,
   "id": "0da7df39-e706-4045-bb01-4b9d7b5c04b4",
   "metadata": {},
   "outputs": [
    {
     "name": "stdin",
     "output_type": "stream",
     "text": [
      " my name is kiran kumar mutte\n"
     ]
    },
    {
     "name": "stdout",
     "output_type": "stream",
     "text": [
      "a = 3\n",
      "e = 2\n",
      "i = 2\n",
      "o = 0\n",
      "u = 2\n"
     ]
    }
   ],
   "source": [
    "sentence = input()\n",
    "\n",
    "a = sentence.count('a')\n",
    "e = sentence.count('e')\n",
    "i = sentence.count('i')\n",
    "o = sentence.count('o')\n",
    "u = sentence.count('u')\n",
    "\n",
    "print(\"a =\",a)\n",
    "print(\"e =\",e)\n",
    "print(\"i =\",i)\n",
    "print(\"o =\",o)\n",
    "print(\"u =\",u)"
   ]
  },
  {
   "cell_type": "code",
   "execution_count": 27,
   "id": "7be0aab3-575c-4cdf-ae9c-1b899ef70287",
   "metadata": {},
   "outputs": [
    {
     "name": "stdin",
     "output_type": "stream",
     "text": [
      " my name is kiran kumar mutte\n"
     ]
    },
    {
     "name": "stdout",
     "output_type": "stream",
     "text": [
      "a,e,i,o,u = 3 2 2 0 2\n",
      "Count of vowels in the given sentence = 9\n"
     ]
    }
   ],
   "source": [
    "sentence = input()\n",
    "\n",
    "a = sentence.count('a')\n",
    "e = sentence.count('e')\n",
    "i = sentence.count('i')\n",
    "o = sentence.count('o')\n",
    "u = sentence.count('u')\n",
    "\n",
    "print(\"a,e,i,o,u =\",a,e,i,o,u)\n",
    "\n",
    "count = a + e + i + o + u\n",
    "\n",
    "print(\"Count of vowels in the given sentence =\",count)"
   ]
  },
  {
   "cell_type": "code",
   "execution_count": 28,
   "id": "9df2a55f-709e-4b4f-9018-7abaaee030e3",
   "metadata": {},
   "outputs": [],
   "source": [
    "#3) Given a string, reverse the order of characters using string slicing and print the reversed string."
   ]
  },
  {
   "cell_type": "code",
   "execution_count": 29,
   "id": "4727d4a3-80df-420a-85a3-bbd896dfc809",
   "metadata": {},
   "outputs": [
    {
     "name": "stdin",
     "output_type": "stream",
     "text": [
      " viviktha kiran\n"
     ]
    },
    {
     "name": "stdout",
     "output_type": "stream",
     "text": [
      "Reverse order of characters = narik ahtkiviv\n"
     ]
    }
   ],
   "source": [
    "string = input()\n",
    "\n",
    "reverse_string = string[::-1]\n",
    "\n",
    "print(\"Reverse order of characters =\",reverse_string)"
   ]
  },
  {
   "cell_type": "code",
   "execution_count": 30,
   "id": "213a3f73-1647-4f37-987a-8a7709aab41f",
   "metadata": {},
   "outputs": [],
   "source": [
    "#4) Write a program that takes a string as input and checks if it is a palindrome (reads the same forwards and backwards)."
   ]
  },
  {
   "cell_type": "code",
   "execution_count": 31,
   "id": "baca9fa6-5581-426f-87b5-274f97514ad7",
   "metadata": {},
   "outputs": [
    {
     "name": "stdin",
     "output_type": "stream",
     "text": [
      " madam\n"
     ]
    },
    {
     "name": "stdout",
     "output_type": "stream",
     "text": [
      "The given input is a palindrome word\n"
     ]
    }
   ],
   "source": [
    "string = input()\n",
    "reverse_string = string[::-1]\n",
    "\n",
    "if string == reverse_string:\n",
    "    print(\"The given input is a palindrome word\")\n",
    "else:\n",
    "    print(\"The given input is not a palindrome word\")       "
   ]
  },
  {
   "cell_type": "code",
   "execution_count": 32,
   "id": "abf5056b-3dbb-43f1-b12b-359ecb3c5c63",
   "metadata": {},
   "outputs": [
    {
     "name": "stdin",
     "output_type": "stream",
     "text": [
      " kiran kumar\n"
     ]
    },
    {
     "name": "stdout",
     "output_type": "stream",
     "text": [
      "The given input is not a palindrome word\n"
     ]
    }
   ],
   "source": [
    "string = input()\n",
    "reverse_string = string[::-1]\n",
    "\n",
    "if string == reverse_string:\n",
    "    print(\"The given input is a palindrome word\")\n",
    "else:\n",
    "    print(\"The given input is not a palindrome word\")"
   ]
  },
  {
   "cell_type": "code",
   "execution_count": 33,
   "id": "09a3d873-366c-4467-b8df-82ac2673e3be",
   "metadata": {},
   "outputs": [
    {
     "name": "stdin",
     "output_type": "stream",
     "text": [
      " level\n"
     ]
    },
    {
     "name": "stdout",
     "output_type": "stream",
     "text": [
      "The given input is a palindrome word\n"
     ]
    }
   ],
   "source": [
    "string = input()\n",
    "reverse_string = string[::-1]\n",
    "\n",
    "if string == reverse_string:\n",
    "    print(\"The given input is a palindrome word\")\n",
    "else:\n",
    "    print(\"The given input is not a palindrome word\")"
   ]
  },
  {
   "cell_type": "code",
   "execution_count": 34,
   "id": "ea656227-aee3-451e-8af3-ea9c4a8882de",
   "metadata": {},
   "outputs": [],
   "source": [
    "#5) Create a program that takes a string as input and removes all the spaces from it. Print the modified string without spaces."
   ]
  },
  {
   "cell_type": "code",
   "execution_count": 35,
   "id": "2520a4ef-041a-43bd-aa1d-d0f5f763489d",
   "metadata": {},
   "outputs": [
    {
     "name": "stdin",
     "output_type": "stream",
     "text": [
      " kiran kumar mutte\n"
     ]
    },
    {
     "name": "stdout",
     "output_type": "stream",
     "text": [
      "Given input without spaces = kirankumarmutte\n"
     ]
    }
   ],
   "source": [
    "input_string = input()\n",
    "modified_string = input_string.replace(\" \",\"\")\n",
    "print(\"Given input without spaces =\",modified_string)"
   ]
  },
  {
   "cell_type": "code",
   "execution_count": 36,
   "id": "0b20bff3-788e-442a-a523-07a0f037a6c1",
   "metadata": {},
   "outputs": [
    {
     "name": "stdin",
     "output_type": "stream",
     "text": [
      "   kiran kumar    mutte   \n"
     ]
    },
    {
     "name": "stdout",
     "output_type": "stream",
     "text": [
      "Given input without spaces = kirankumarmutte\n"
     ]
    }
   ],
   "source": [
    "input_string = input()\n",
    "modified_string = input_string.replace(\" \",\"\")\n",
    "print(\"Given input without spaces =\",modified_string)"
   ]
  }
 ],
 "metadata": {
  "kernelspec": {
   "display_name": "Python 3 (ipykernel)",
   "language": "python",
   "name": "python3"
  },
  "language_info": {
   "codemirror_mode": {
    "name": "ipython",
    "version": 3
   },
   "file_extension": ".py",
   "mimetype": "text/x-python",
   "name": "python",
   "nbconvert_exporter": "python",
   "pygments_lexer": "ipython3",
   "version": "3.10.8"
  }
 },
 "nbformat": 4,
 "nbformat_minor": 5
}
